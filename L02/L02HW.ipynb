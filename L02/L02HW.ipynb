{
 "cells": [
  {
   "cell_type": "markdown",
   "id": "eb59fecb",
   "metadata": {
    "pycharm": {
     "name": "#%% md\n"
    }
   },
   "source": [
    "# Библиотеки Python для Data Science: Numpy, Matplotlib, Scikit-learn\n",
    "\n",
    "## Урок 2. Вычисления с помощью Numpy. Работа с данными в Pandas\n",
    "\n",
    "### Вычисления с помощью Numpy"
   ]
  },
  {
   "cell_type": "code",
   "execution_count": 1,
   "id": "c3412564",
   "metadata": {
    "pycharm": {
     "name": "#%%\n"
    }
   },
   "outputs": [],
   "source": [
    "import numpy as np\n",
    "import pandas as pd"
   ]
  },
  {
   "cell_type": "markdown",
   "id": "a3d7edf2",
   "metadata": {
    "pycharm": {
     "name": "#%% md\n"
    }
   },
   "source": [
    "#### Задание 1\n",
    "\n",
    "Создайте массив Numpy под названием `a` размером 5x2, то есть состоящий из 5 строк и 2 столбцов. Первый столбец должен содержать числа `1, 2, 3, 3, 1`, а второй - числа `6, 8, 11, 10, 7`. Будем считать, что каждый столбец – это признак, а строка – наблюдение. Затем найдите среднее значение по каждому признаку, используя метод mean массива Numpy. Результат запишите в массив `mean_a`, в нем должно быть 2 элемента."
   ]
  },
  {
   "cell_type": "code",
   "execution_count": 2,
   "id": "2fe2fdf0",
   "metadata": {
    "pycharm": {
     "name": "#%%\n"
    }
   },
   "outputs": [
    {
     "data": {
      "text/plain": "(5, 2)"
     },
     "execution_count": 2,
     "metadata": {},
     "output_type": "execute_result"
    }
   ],
   "source": [
    "a = np.array([[1, 6], [2, 8], [3, 11], [3, 10], [1, 7]])\n",
    "a.shape"
   ]
  },
  {
   "cell_type": "code",
   "execution_count": 3,
   "id": "59a1a43d",
   "metadata": {
    "pycharm": {
     "name": "#%%\n"
    }
   },
   "outputs": [
    {
     "data": {
      "text/plain": "array([2. , 8.4])"
     },
     "execution_count": 3,
     "metadata": {},
     "output_type": "execute_result"
    }
   ],
   "source": [
    "mean_a = np.mean(a, axis=0)\n",
    "mean_a"
   ]
  },
  {
   "cell_type": "markdown",
   "id": "8bbb8482",
   "metadata": {
    "pycharm": {
     "name": "#%% md\n"
    }
   },
   "source": [
    "#### Задание 2\n",
    "\n",
    "Вычислите массив `a_centered`, отняв от значений массива `а` средние значения соответствующих признаков, содержащиеся в массиве `mean_a`. Вычисление должно производиться в одно действие. Получившийся массив должен иметь размер 5x2."
   ]
  },
  {
   "cell_type": "code",
   "execution_count": 4,
   "id": "40b89f0d",
   "metadata": {
    "pycharm": {
     "name": "#%%\n"
    }
   },
   "outputs": [
    {
     "data": {
      "text/plain": "array([[-1. , -2.4],\n       [ 0. , -0.4],\n       [ 1. ,  2.6],\n       [ 1. ,  1.6],\n       [-1. , -1.4]])"
     },
     "execution_count": 4,
     "metadata": {},
     "output_type": "execute_result"
    }
   ],
   "source": [
    "a_centered = a - mean_a\n",
    "a_centered"
   ]
  },
  {
   "cell_type": "markdown",
   "id": "f092e3b9",
   "metadata": {
    "pycharm": {
     "name": "#%% md\n"
    }
   },
   "source": [
    "#### Задание 3\n",
    "\n",
    "Найдите скалярное произведение столбцов массива `a_centered`. В результате должна получиться величина `a_centered_sp`. Затем поделите `a_centered_sp` на `N-1`, где `N` - число наблюдений."
   ]
  },
  {
   "cell_type": "code",
   "execution_count": 5,
   "id": "6ebcb404",
   "metadata": {
    "pycharm": {
     "name": "#%%\n"
    }
   },
   "outputs": [
    {
     "data": {
      "text/plain": "np.float64(8.0)"
     },
     "execution_count": 5,
     "metadata": {},
     "output_type": "execute_result"
    }
   ],
   "source": [
    "a_centered_sp = a_centered[:,0] @ a_centered[:,1]\n",
    "a_centered_sp"
   ]
  },
  {
   "cell_type": "code",
   "execution_count": 6,
   "id": "28c43be6",
   "metadata": {
    "pycharm": {
     "name": "#%%\n"
    }
   },
   "outputs": [
    {
     "data": {
      "text/plain": "np.float64(2.0)"
     },
     "execution_count": 6,
     "metadata": {},
     "output_type": "execute_result"
    }
   ],
   "source": [
    "N = a.shape[0]\n",
    "a_centered_sp / (N - 1)"
   ]
  },
  {
   "cell_type": "markdown",
   "id": "c37fe639",
   "metadata": {
    "pycharm": {
     "name": "#%% md\n"
    }
   },
   "source": [
    "#### Задание 4**\n",
    "\n",
    "Число, которое мы получили в конце задания 3 является ковариацией двух признаков, содержащихся в массиве `а`. \\\n",
    "В задании 4 мы делили сумму произведений центрированных признаков на `N-1`, а не на `N`, поэтому полученная нами величина является несмещенной оценкой ковариации.\n",
    "\n",
    "В этом задании проверьте получившееся число, вычислив ковариацию еще одним способом - с помощью функции `np.cov`. \\\n",
    "В качестве аргумента `m` функция `np.cov` должна принимать транспонированный массив `a`. \\\n",
    "В получившейся ковариационной матрице (массив Numpy размером 2x2) искомое значение ковариации будет равно элементу в строке с индексом 0 и столбце с индексом 1."
   ]
  },
  {
   "cell_type": "code",
   "execution_count": 7,
   "id": "4789f800",
   "metadata": {
    "pycharm": {
     "name": "#%%\n"
    }
   },
   "outputs": [
    {
     "data": {
      "text/plain": "array([[1. , 2. ],\n       [2. , 4.3]])"
     },
     "execution_count": 7,
     "metadata": {},
     "output_type": "execute_result"
    }
   ],
   "source": [
    "cov_mrx = np.cov(a.T)\n",
    "cov_mrx"
   ]
  },
  {
   "cell_type": "code",
   "execution_count": 8,
   "id": "a065cc72",
   "metadata": {
    "pycharm": {
     "name": "#%%\n"
    }
   },
   "outputs": [
    {
     "data": {
      "text/plain": "np.float64(2.0)"
     },
     "execution_count": 8,
     "metadata": {},
     "output_type": "execute_result"
    }
   ],
   "source": [
    "cov_mrx[0][1]"
   ]
  },
  {
   "cell_type": "markdown",
   "id": "a477867b",
   "metadata": {
    "pycharm": {
     "name": "#%% md\n"
    }
   },
   "source": [
    "### Работа с данными в Pandas"
   ]
  },
  {
   "cell_type": "markdown",
   "id": "88deb8f0",
   "metadata": {
    "pycharm": {
     "name": "#%% md\n"
    }
   },
   "source": [
    "#### Задание 1\n",
    "\n",
    "Создайте датафрейм `authors` со столбцами `author_id` и `author_name`, в которых соответственно содержатся данные: \\\n",
    "[1, 2, 3] \\\n",
    "['Тургенев', 'Чехов', 'Островский']\n",
    "\n",
    "Затем создайте датафрейм `books` cо столбцами `author_id`, `book_title` и `price`, в которых соответственно содержатся данные: \\\n",
    "[1, 1, 1, 2, 2, 3, 3] \\\n",
    "['Отцы и дети', 'Рудин', 'Дворянское гнездо', 'Толстый и тонкий', 'Дама с собачкой', 'Гроза', 'Таланты и поклонники'] \\\n",
    "[500, 400, 300, 350, 450, 600, 200]"
   ]
  },
  {
   "cell_type": "code",
   "execution_count": 9,
   "id": "d117cf10",
   "metadata": {
    "pycharm": {
     "name": "#%%\n"
    }
   },
   "outputs": [
    {
     "data": {
      "text/plain": "   author_id author_name\n0          1    Тургенев\n1          2       Чехов\n2          3  Островский",
      "text/html": "<div>\n<style scoped>\n    .dataframe tbody tr th:only-of-type {\n        vertical-align: middle;\n    }\n\n    .dataframe tbody tr th {\n        vertical-align: top;\n    }\n\n    .dataframe thead th {\n        text-align: right;\n    }\n</style>\n<table border=\"1\" class=\"dataframe\">\n  <thead>\n    <tr style=\"text-align: right;\">\n      <th></th>\n      <th>author_id</th>\n      <th>author_name</th>\n    </tr>\n  </thead>\n  <tbody>\n    <tr>\n      <th>0</th>\n      <td>1</td>\n      <td>Тургенев</td>\n    </tr>\n    <tr>\n      <th>1</th>\n      <td>2</td>\n      <td>Чехов</td>\n    </tr>\n    <tr>\n      <th>2</th>\n      <td>3</td>\n      <td>Островский</td>\n    </tr>\n  </tbody>\n</table>\n</div>"
     },
     "execution_count": 9,
     "metadata": {},
     "output_type": "execute_result"
    }
   ],
   "source": [
    "authors = pd.DataFrame({'author_id': [1, 2, 3], \n",
    "                        'author_name': [\"Тургенев\", \"Чехов\", \"Островский\"]})\n",
    "authors"
   ]
  },
  {
   "cell_type": "code",
   "execution_count": 10,
   "id": "2a5fb2cc",
   "metadata": {
    "pycharm": {
     "name": "#%%\n"
    }
   },
   "outputs": [
    {
     "data": {
      "text/plain": "   author_id            book_title  price\n0          1           Отцы и дети    500\n1          1                 Рудин    400\n2          1     Дворянское гнездо    300\n3          2      Толстый и тонкий    350\n4          2       Дама с собачкой    450\n5          3                 Гроза    600\n6          3  Таланты и поклонники    200",
      "text/html": "<div>\n<style scoped>\n    .dataframe tbody tr th:only-of-type {\n        vertical-align: middle;\n    }\n\n    .dataframe tbody tr th {\n        vertical-align: top;\n    }\n\n    .dataframe thead th {\n        text-align: right;\n    }\n</style>\n<table border=\"1\" class=\"dataframe\">\n  <thead>\n    <tr style=\"text-align: right;\">\n      <th></th>\n      <th>author_id</th>\n      <th>book_title</th>\n      <th>price</th>\n    </tr>\n  </thead>\n  <tbody>\n    <tr>\n      <th>0</th>\n      <td>1</td>\n      <td>Отцы и дети</td>\n      <td>500</td>\n    </tr>\n    <tr>\n      <th>1</th>\n      <td>1</td>\n      <td>Рудин</td>\n      <td>400</td>\n    </tr>\n    <tr>\n      <th>2</th>\n      <td>1</td>\n      <td>Дворянское гнездо</td>\n      <td>300</td>\n    </tr>\n    <tr>\n      <th>3</th>\n      <td>2</td>\n      <td>Толстый и тонкий</td>\n      <td>350</td>\n    </tr>\n    <tr>\n      <th>4</th>\n      <td>2</td>\n      <td>Дама с собачкой</td>\n      <td>450</td>\n    </tr>\n    <tr>\n      <th>5</th>\n      <td>3</td>\n      <td>Гроза</td>\n      <td>600</td>\n    </tr>\n    <tr>\n      <th>6</th>\n      <td>3</td>\n      <td>Таланты и поклонники</td>\n      <td>200</td>\n    </tr>\n  </tbody>\n</table>\n</div>"
     },
     "execution_count": 10,
     "metadata": {},
     "output_type": "execute_result"
    }
   ],
   "source": [
    "books = pd.DataFrame({'author_id': [1, 1, 1, 2, 2, 3, 3], \n",
    "                      'book_title': [\"Отцы и дети\", \"Рудин\", \"Дворянское гнездо\", \"Толстый и тонкий\", \"Дама с собачкой\", \"Гроза\", \"Таланты и поклонники\"], \n",
    "                      'price': [500, 400, 300, 350, 450, 600, 200]})\n",
    "books"
   ]
  },
  {
   "cell_type": "markdown",
   "id": "115c78a3",
   "metadata": {
    "pycharm": {
     "name": "#%% md\n"
    }
   },
   "source": [
    "#### Задание 2\n",
    "\n",
    "Получите датафрейм `authors_price`, соединив дата фреймы `authors` и `books` по полю `author_id`."
   ]
  },
  {
   "cell_type": "code",
   "execution_count": 11,
   "id": "aa076d73",
   "metadata": {
    "pycharm": {
     "name": "#%%\n"
    }
   },
   "outputs": [
    {
     "data": {
      "text/plain": "   author_id author_name            book_title  price\n0          1    Тургенев           Отцы и дети    500\n1          1    Тургенев                 Рудин    400\n2          1    Тургенев     Дворянское гнездо    300\n3          2       Чехов      Толстый и тонкий    350\n4          2       Чехов       Дама с собачкой    450\n5          3  Островский                 Гроза    600\n6          3  Островский  Таланты и поклонники    200",
      "text/html": "<div>\n<style scoped>\n    .dataframe tbody tr th:only-of-type {\n        vertical-align: middle;\n    }\n\n    .dataframe tbody tr th {\n        vertical-align: top;\n    }\n\n    .dataframe thead th {\n        text-align: right;\n    }\n</style>\n<table border=\"1\" class=\"dataframe\">\n  <thead>\n    <tr style=\"text-align: right;\">\n      <th></th>\n      <th>author_id</th>\n      <th>author_name</th>\n      <th>book_title</th>\n      <th>price</th>\n    </tr>\n  </thead>\n  <tbody>\n    <tr>\n      <th>0</th>\n      <td>1</td>\n      <td>Тургенев</td>\n      <td>Отцы и дети</td>\n      <td>500</td>\n    </tr>\n    <tr>\n      <th>1</th>\n      <td>1</td>\n      <td>Тургенев</td>\n      <td>Рудин</td>\n      <td>400</td>\n    </tr>\n    <tr>\n      <th>2</th>\n      <td>1</td>\n      <td>Тургенев</td>\n      <td>Дворянское гнездо</td>\n      <td>300</td>\n    </tr>\n    <tr>\n      <th>3</th>\n      <td>2</td>\n      <td>Чехов</td>\n      <td>Толстый и тонкий</td>\n      <td>350</td>\n    </tr>\n    <tr>\n      <th>4</th>\n      <td>2</td>\n      <td>Чехов</td>\n      <td>Дама с собачкой</td>\n      <td>450</td>\n    </tr>\n    <tr>\n      <th>5</th>\n      <td>3</td>\n      <td>Островский</td>\n      <td>Гроза</td>\n      <td>600</td>\n    </tr>\n    <tr>\n      <th>6</th>\n      <td>3</td>\n      <td>Островский</td>\n      <td>Таланты и поклонники</td>\n      <td>200</td>\n    </tr>\n  </tbody>\n</table>\n</div>"
     },
     "execution_count": 11,
     "metadata": {},
     "output_type": "execute_result"
    }
   ],
   "source": [
    "authors_price = authors.merge(books, on='author_id', how='inner')\n",
    "authors_price"
   ]
  },
  {
   "cell_type": "markdown",
   "id": "af09a304",
   "metadata": {
    "pycharm": {
     "name": "#%% md\n"
    }
   },
   "source": [
    "#### Задание 3\n",
    "\n",
    "Создайте датафрейм `top5`, в котором содержатся строки из `authors_price` с пятью самыми дорогими книгами."
   ]
  },
  {
   "cell_type": "code",
   "execution_count": 12,
   "id": "2705e291",
   "metadata": {
    "pycharm": {
     "name": "#%%\n"
    }
   },
   "outputs": [
    {
     "data": {
      "text/plain": "   author_id author_name        book_title  price\n5          3  Островский             Гроза    600\n0          1    Тургенев       Отцы и дети    500\n4          2       Чехов   Дама с собачкой    450\n1          1    Тургенев             Рудин    400\n3          2       Чехов  Толстый и тонкий    350",
      "text/html": "<div>\n<style scoped>\n    .dataframe tbody tr th:only-of-type {\n        vertical-align: middle;\n    }\n\n    .dataframe tbody tr th {\n        vertical-align: top;\n    }\n\n    .dataframe thead th {\n        text-align: right;\n    }\n</style>\n<table border=\"1\" class=\"dataframe\">\n  <thead>\n    <tr style=\"text-align: right;\">\n      <th></th>\n      <th>author_id</th>\n      <th>author_name</th>\n      <th>book_title</th>\n      <th>price</th>\n    </tr>\n  </thead>\n  <tbody>\n    <tr>\n      <th>5</th>\n      <td>3</td>\n      <td>Островский</td>\n      <td>Гроза</td>\n      <td>600</td>\n    </tr>\n    <tr>\n      <th>0</th>\n      <td>1</td>\n      <td>Тургенев</td>\n      <td>Отцы и дети</td>\n      <td>500</td>\n    </tr>\n    <tr>\n      <th>4</th>\n      <td>2</td>\n      <td>Чехов</td>\n      <td>Дама с собачкой</td>\n      <td>450</td>\n    </tr>\n    <tr>\n      <th>1</th>\n      <td>1</td>\n      <td>Тургенев</td>\n      <td>Рудин</td>\n      <td>400</td>\n    </tr>\n    <tr>\n      <th>3</th>\n      <td>2</td>\n      <td>Чехов</td>\n      <td>Толстый и тонкий</td>\n      <td>350</td>\n    </tr>\n  </tbody>\n</table>\n</div>"
     },
     "execution_count": 12,
     "metadata": {},
     "output_type": "execute_result"
    }
   ],
   "source": [
    "top5 = authors_price.nlargest(5, \"price\")\n",
    "top5"
   ]
  },
  {
   "cell_type": "markdown",
   "id": "03f965fe",
   "metadata": {
    "pycharm": {
     "name": "#%% md\n"
    }
   },
   "source": [
    "#### Задание 4\n",
    "\n",
    "Создайте датафрейм `authors_stat` на основе информации из `authors_price`. \\\n",
    "В датафрейме `authors_stat` должны быть четыре столбца: `author_name`, `min_price`, `max_price` и `mean_price`, \\\n",
    "в которых должны содержаться соответственно имя автора, минимальная, максимальная и средняя цена на книги этого автора."
   ]
  },
  {
   "cell_type": "code",
   "execution_count": 13,
   "id": "db168dbf",
   "metadata": {
    "pycharm": {
     "name": "#%%\n"
    }
   },
   "outputs": [
    {
     "data": {
      "text/plain": "   min_price  max_price  mean_price\n0        200        600       400.0\n1        300        500       400.0\n2        350        450       400.0",
      "text/html": "<div>\n<style scoped>\n    .dataframe tbody tr th:only-of-type {\n        vertical-align: middle;\n    }\n\n    .dataframe tbody tr th {\n        vertical-align: top;\n    }\n\n    .dataframe thead th {\n        text-align: right;\n    }\n</style>\n<table border=\"1\" class=\"dataframe\">\n  <thead>\n    <tr style=\"text-align: right;\">\n      <th></th>\n      <th>min_price</th>\n      <th>max_price</th>\n      <th>mean_price</th>\n    </tr>\n  </thead>\n  <tbody>\n    <tr>\n      <th>0</th>\n      <td>200</td>\n      <td>600</td>\n      <td>400.0</td>\n    </tr>\n    <tr>\n      <th>1</th>\n      <td>300</td>\n      <td>500</td>\n      <td>400.0</td>\n    </tr>\n    <tr>\n      <th>2</th>\n      <td>350</td>\n      <td>450</td>\n      <td>400.0</td>\n    </tr>\n  </tbody>\n</table>\n</div>"
     },
     "execution_count": 13,
     "metadata": {},
     "output_type": "execute_result"
    }
   ],
   "source": [
    "authors_stat = authors_price.groupby(\"author_name\")\\\n",
    "                            .agg(min_price=(\"price\", \"min\"), max_price=(\"price\", \"max\"), mean_price=(\"price\", \"mean\"))\\\n",
    "                            .reset_index(drop=True)\n",
    "authors_stat"
   ]
  },
  {
   "cell_type": "markdown",
   "id": "7db08b51",
   "metadata": {
    "pycharm": {
     "name": "#%% md\n"
    }
   },
   "source": [
    "#### Задание 5**\n",
    "\n",
    "Создайте новый столбец в датафрейме `authors_price` под названием `cover`, в нем будут располагаться данные о том, какая обложка у данной книги - твердая или мягкая. В этот столбец поместите данные из следующего списка: \\\n",
    "['твердая', 'мягкая', 'мягкая', 'твердая', 'твердая', 'мягкая', 'мягкая'].\n",
    "\n",
    "Просмотрите документацию по функции `pd.pivot_table` с помощью вопросительного знака.\n",
    "\n",
    "Для каждого автора посчитайте суммарную стоимость книг в твердой и мягкой обложке. \\\n",
    "Используйте для этого функцию `pd.pivot_table`. \\\n",
    "При этом столбцы должны называться \"твердая\" и \"мягкая\", а индексами должны быть фамилии авторов. \\\n",
    "Пропущенные значения стоимостей заполните нулями, при необходимости загрузите библиотеку Numpy. \\\n",
    "\n",
    "Назовите полученный датасет `book_info` и сохраните его в формат `pickle` под названием \"book_info.pkl\". \\\n",
    "Затем загрузите из этого файла датафрейм и назовите его `book_info2`. \\\n",
    "Удостоверьтесь, что датафреймы `book_info` и `book_info2` идентичны."
   ]
  },
  {
   "cell_type": "code",
   "execution_count": 14,
   "id": "d5376e5f",
   "metadata": {
    "pycharm": {
     "name": "#%%\n"
    }
   },
   "outputs": [],
   "source": [
    "authors_price[\"book_cover\"] = [\"твердая\", \"мягкая\", \"мягкая\", \"твердая\", \"твердая\", \"мягкая\", \"мягкая\"]"
   ]
  },
  {
   "cell_type": "code",
   "execution_count": 15,
   "id": "c377c6f9",
   "metadata": {
    "pycharm": {
     "name": "#%%\n"
    }
   },
   "outputs": [],
   "source": [
    "pd.pivot_table?"
   ]
  },
  {
   "cell_type": "code",
   "execution_count": 16,
   "id": "e4ef03d5",
   "metadata": {
    "pycharm": {
     "name": "#%%\n"
    }
   },
   "outputs": [
    {
     "data": {
      "text/plain": "book_cover   мягкая  твердая\nauthor_name                 \nОстровский      800        0\nТургенев        700      500\nЧехов             0      800",
      "text/html": "<div>\n<style scoped>\n    .dataframe tbody tr th:only-of-type {\n        vertical-align: middle;\n    }\n\n    .dataframe tbody tr th {\n        vertical-align: top;\n    }\n\n    .dataframe thead th {\n        text-align: right;\n    }\n</style>\n<table border=\"1\" class=\"dataframe\">\n  <thead>\n    <tr style=\"text-align: right;\">\n      <th>book_cover</th>\n      <th>мягкая</th>\n      <th>твердая</th>\n    </tr>\n    <tr>\n      <th>author_name</th>\n      <th></th>\n      <th></th>\n    </tr>\n  </thead>\n  <tbody>\n    <tr>\n      <th>Островский</th>\n      <td>800</td>\n      <td>0</td>\n    </tr>\n    <tr>\n      <th>Тургенев</th>\n      <td>700</td>\n      <td>500</td>\n    </tr>\n    <tr>\n      <th>Чехов</th>\n      <td>0</td>\n      <td>800</td>\n    </tr>\n  </tbody>\n</table>\n</div>"
     },
     "execution_count": 16,
     "metadata": {},
     "output_type": "execute_result"
    }
   ],
   "source": [
    "book_info = pd.pivot_table(authors_price, \n",
    "                           values=\"price\", \n",
    "                           index=\"author_name\", \n",
    "                           columns=\"book_cover\", \n",
    "                           aggfunc=\"sum\", \n",
    "                           fill_value=0)\n",
    "book_info"
   ]
  },
  {
   "cell_type": "code",
   "execution_count": 17,
   "id": "4e06910e",
   "metadata": {
    "pycharm": {
     "name": "#%%\n"
    }
   },
   "outputs": [],
   "source": [
    "book_info.to_pickle(\"book_info.pkl\")"
   ]
  },
  {
   "cell_type": "code",
   "execution_count": 18,
   "id": "64532730",
   "metadata": {
    "pycharm": {
     "name": "#%%\n"
    }
   },
   "outputs": [
    {
     "data": {
      "text/plain": "book_cover   мягкая  твердая\nauthor_name                 \nОстровский      800        0\nТургенев        700      500\nЧехов             0      800",
      "text/html": "<div>\n<style scoped>\n    .dataframe tbody tr th:only-of-type {\n        vertical-align: middle;\n    }\n\n    .dataframe tbody tr th {\n        vertical-align: top;\n    }\n\n    .dataframe thead th {\n        text-align: right;\n    }\n</style>\n<table border=\"1\" class=\"dataframe\">\n  <thead>\n    <tr style=\"text-align: right;\">\n      <th>book_cover</th>\n      <th>мягкая</th>\n      <th>твердая</th>\n    </tr>\n    <tr>\n      <th>author_name</th>\n      <th></th>\n      <th></th>\n    </tr>\n  </thead>\n  <tbody>\n    <tr>\n      <th>Островский</th>\n      <td>800</td>\n      <td>0</td>\n    </tr>\n    <tr>\n      <th>Тургенев</th>\n      <td>700</td>\n      <td>500</td>\n    </tr>\n    <tr>\n      <th>Чехов</th>\n      <td>0</td>\n      <td>800</td>\n    </tr>\n  </tbody>\n</table>\n</div>"
     },
     "execution_count": 18,
     "metadata": {},
     "output_type": "execute_result"
    }
   ],
   "source": [
    "book_info2 = pd.read_pickle(\"book_info.pkl\")\n",
    "book_info2"
   ]
  },
  {
   "cell_type": "code",
   "execution_count": 19,
   "id": "fd9218f1",
   "metadata": {
    "pycharm": {
     "name": "#%%\n"
    }
   },
   "outputs": [
    {
     "data": {
      "text/plain": "True"
     },
     "execution_count": 19,
     "metadata": {},
     "output_type": "execute_result"
    }
   ],
   "source": [
    "book_info.equals(book_info2)"
   ]
  },
  {
   "cell_type": "code",
   "execution_count": 19,
   "id": "0ec1e2ae",
   "metadata": {
    "pycharm": {
     "name": "#%%\n"
    }
   },
   "outputs": [],
   "source": []
  }
 ],
 "metadata": {
  "kernelspec": {
   "display_name": "Python 3 (ipykernel)",
   "language": "python",
   "name": "python3"
  },
  "language_info": {
   "codemirror_mode": {
    "name": "ipython",
    "version": 3
   },
   "file_extension": ".py",
   "mimetype": "text/x-python",
   "name": "python",
   "nbconvert_exporter": "python",
   "pygments_lexer": "ipython3",
   "version": "3.9.13"
  }
 },
 "nbformat": 4,
 "nbformat_minor": 5
}